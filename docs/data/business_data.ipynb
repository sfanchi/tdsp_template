{
  "cells": [
    {
      "cell_type": "markdown",
      "id": "585dcbfa",
      "metadata": {
        "id": "585dcbfa"
      },
      "source": [
        "<img src = \"https://drive.google.com/uc?export=view&id=1qwLiiRwLcW04FUsVd7cC1vZ0MDjG3m2D\" alt = \"Encabezado MLDS\" width = \"100%\">  </img>"
      ]
    },
    {
      "cell_type": "markdown",
      "id": "82ea3b5e",
      "metadata": {
        "id": "82ea3b5e"
      },
      "source": [
        "# **Entendimiento del Negocio y Carga de Datos**\n",
        "---\n",
        "\n",
        "Este notebook es una plantilla que le puede servir como guía para el primer entregable del proyecto aplicado."
      ]
    },
    {
      "cell_type": "markdown",
      "id": "fdb4c33d",
      "metadata": {
        "id": "fdb4c33d"
      },
      "source": [
        "## **1. Marco de Proyecto**\n",
        "---\n",
        "\n",
        "Normalmente, se suele construir un marco de proyecto para mostrar los resultados del entendimiento del negocio, es decir, debemos dar respuesta a los siguientes elementos:"
      ]
    },
    {
      "cell_type": "markdown",
      "id": "7a974ec1",
      "metadata": {
        "id": "7a974ec1"
      },
      "source": [
        "### **1.1. Trasfondo del Negocio**\n",
        "---\n",
        "\n",
        "- ¿Quién es el cliente o los beneficiarios del proyecto? ¿En qué dominio se encuentran (marketing, medicina, entre otros)?\n",
        "- ¿Qué problemas del negocio o del dominio estamos tratando de solucionar?"
      ]
    },
    {
      "cell_type": "markdown",
      "id": "18d9305a",
      "metadata": {
        "id": "18d9305a"
      },
      "source": [
        "Actualmente en la empresa donde trabajo, contamos con un motor de recomendaciones para ofrecerle a nuestros usuarios una personalización adecuada de varios de nuestros servicios y también de nuestros proveedores. Estos servicios, estan muy enfocados al bienestar de la persona, con esto me refiero a aspectos importantes del bienestar del ser humano, como lo es el tener tiempo en familia, gozar de buena salud, tener buenas finanzas personales, cumplir proyectos de vida, entre otros. Para ayudar y apoyar a nuestros usuarios, ese motor de recomendaciones se ha basado en un modelo previamente creado, al cual llamamos modelo de 'Habilidades y Desafios', no es prioridad en este momento dar detalle del funcionamiento de este último pero si es importante hacer ciertas aclaraciones para que se entienda la filosofía del motor:\n",
        "\n",
        "*   Se conoce como 'experiencias' a aquello que recomienda el motor, es decir que es lo transable, lo que se puede consumir a manera de servicio.\n",
        "*   Las 'habilidades' son fortalecidas o desarrolladas mediante las experiencias.\n",
        "*   Los 'desafios' son aquelas grandes metas que el usuario quiere cumplir, y que mediante sus habilidades le será posible llegar a ese objetivo.\n",
        "\n",
        "Esta modalidad esta basada en un estudio teórico del economista Amartya Sen, quien desarrolló toda una teoría sobre la concepción de qué es bienestar en una sociedad.\n",
        "\n",
        "Para ilustrar con un ejemplo muy sencillo, sería algo asi:\n",
        "\n",
        "Quiero reforzar mi **habilidad** de 'capacidad de ahorro' mediante las **experiencias** de 'finanzas personales' y 'metodologías de ahorro en Colombia', para asi poder cumplir con mi **desafío** de 'comprar la casa de mis sueños'.\n",
        "\n",
        "En este orden de ideas, podemos ver que los beneficiarios de este proyecto, son todas las personas que interactúen con este motor de recomendación, son todos aquellos que quieran tener un proyecto de vida y que quieran apoyarse ne herramientas tecnológicas para lograrlo.\n",
        "\n",
        "El área principal de este desarrollo, esta en torno a la prestación de servicios con un enfoque muy fuerte a bienestar del individuo, siempre teniendo a la persona como eje central de todo su funcionamiento.\n",
        "\n",
        "Después de un estudio fuerte en torno a la sociedad Colombiana, asi como pasa con muchas otras, nos encontramos que la mayoría de individuos cuentan con un 'problema' en común, y es que quieren cumplir sus objetivos pero no tienen claro cómo. Los individuos quieren tener una familia y ser felices, tener su casa propia, tener el auto de sus sueños, ser personas saludables, tener buena vida financeria, entre muchos otros aspectos, pero gran parte de ellos no sabe ni como ni por donde empezar, es ahi donde el motor de recomendación cobra importancia y apoya a estas personas en esa travesía, usando la personalizacion como su poder especial con el cual hará llegar lo que necesita esa persona en el momento adecuado."
      ]
    },
    {
      "cell_type": "markdown",
      "id": "d09c63e5",
      "metadata": {
        "id": "d09c63e5"
      },
      "source": [
        "### **1.2. Alcance**\n",
        "---\n",
        "\n",
        "- ¿Qué  solución basada en _Deep Learning_ queremos implementar?\n",
        "- ¿Qué  se hará?\n",
        "- ¿De qué forma el cliente o beneficiario utilizará el producto del proyecto?"
      ]
    },
    {
      "cell_type": "markdown",
      "id": "12e3be6b",
      "metadata": {
        "id": "12e3be6b"
      },
      "source": [
        "Mi objetivo principal mediante este proyecto es poder desarrollar un sistema de recomendación basado en Deep Learning usando Keras y TF.\n",
        "\n",
        "Hay un tema en especial que me gustaría profundizar en este proyecto y es conocido como '**Neural Collaborative Filtering**' o NCF. Este es uno de los temas más famosos de la combinación del Deep Learning con los sistemas recomendadores, como sabemos, los filtros colaborativos son muy usados y son practicamente los más implementados en el mundo empresarial, sin embargo, esta nueva propuesta de Deep Learning, le suma su parte 'Neural' que es aquella que tiene como base todo el alcance y poder de las redes neuronales.\n",
        "\n",
        "Al final del proyecto, lo que busco desarrollar es un sistema recomendador basado en NCF, el cual podría a llegar a tener mucha acogida en mi empresa.\n",
        "\n",
        "El usuario seguirá haciendo uso de la herramienta como viene ya haciendolo hace un tiempo, solo que de llegar a salir algún tema implementable, se podría analizar la opción de que incluso se haga un despliegue a nivel productivo dentro de la empresa, para que así el usuario tenga acceso directo o que pueda hacer uso de estos desarrollos."
      ]
    },
    {
      "cell_type": "markdown",
      "id": "370e4a5d",
      "metadata": {
        "id": "370e4a5d"
      },
      "source": [
        "### **1.3. Plan**\n",
        "---\n",
        "\n",
        "Puede agregar una lista de actividades con tiempos estimados, un diagrama de Gantt o integrar alguna herramienta de gestión de proyectos para mostrar la planeación del proyecto."
      ]
    },
    {
      "cell_type": "markdown",
      "id": "3b465355",
      "metadata": {
        "id": "3b465355"
      },
      "source": [
        "Mi planeación sobre el orden de actividades podría ser el siguiente, haciendo la salvedad que es probable que cambie sobre la marcha:\n",
        "\n",
        "1.   Entender los datos de los usuarios, como estan compuestos y generar un primer estudio descriptivo\n",
        "2.   Analizar cual sería la mejor arquitectura de redes neuronales a aplicar\n",
        "3.   Una vez entendida y creada la arquitectura, podemos proceder a entrenar el modelo, revisar sus métricas de desempeño y si es un modelo con el que estemos satisfechos, podemos proceder a obtener sus predicciones y ver los resultados de las recomendaciones para ciertos usuarios de prueba.\n",
        "4. Explorar la librería de TensorFlow dedicada a sistemas recomendadores llamada 'TensorFlow Recommenders' y desarrollar un modelo usando esta libreria, para poder lelgar a comparar sus resultados con el modelo desarrollado anteriormente.\n",
        "\n",
        "Esos serían los temas principales y gruesos a trabajar, de cada uno de ellos podría desprenderse otros subtemas que se irán desarrollando en el camino."
      ]
    },
    {
      "cell_type": "markdown",
      "id": "4a4e145b",
      "metadata": {
        "id": "4a4e145b"
      },
      "source": [
        "## **2. Datos**\n",
        "---\n",
        "\n",
        "En esta sección debe adjuntar una descripción de los datos y agregar el código que permite su tratamiento."
      ]
    },
    {
      "cell_type": "markdown",
      "id": "2c5f8274",
      "metadata": {
        "id": "2c5f8274"
      },
      "source": [
        "### **2.1. Origen**\n",
        "---\n",
        "\n",
        "- ¿De dónde vienen los datos?\n",
        "- ¿Se usa alguna herramienta o proceso para la descarga de la información?\n",
        "- ¿Qué tipo de datos estamos manejando?"
      ]
    },
    {
      "cell_type": "markdown",
      "id": "7261ad96",
      "metadata": {
        "id": "7261ad96"
      },
      "source": [
        "Estos datos vienen descargados de la plataforma empresarial en formato csv, esta plataforma se encarga de la generación de reportes del motor de recomendación, estos datos son alimentados y generados diariamente, sin embargo para el ejercicio usaremos unos comentarios que estan en el rango de enero del 2021 a septiembre del 2022.\n",
        "\n",
        "Como he mencionado, la herramienta de descarga es a traves de la plataforma emrpesarial, pensé en hacerlo a través de un proceso automático que visitara esa plataforma y descargara automáticamente en un repositorio, pero no fue posible debido a temas de permisos y seguridad de la empresa.\n",
        "\n",
        "Los tipos de datos son valoraciones numericas asociadas a cada una de las experiencias que ha consumido el usuario, estas valoraciones van entre 1 y 5, también tenemos otras variables como el Id de la orden, el nombre de la experiencia, la fecha de transacción y el id del cliente que hizo esa transacción."
      ]
    },
    {
      "cell_type": "markdown",
      "id": "4a9cc180",
      "metadata": {
        "id": "4a9cc180"
      },
      "source": [
        "### **2.2. Carga o Adquisición de Datos**\n",
        "---\n",
        "\n",
        "Agregue el código necesario en _Python_ para obtener o cargar los datos."
      ]
    },
    {
      "cell_type": "code",
      "execution_count": null,
      "id": "1b580368",
      "metadata": {
        "id": "1b580368",
        "colab": {
          "base_uri": "https://localhost:8080/",
          "height": 262
        },
        "outputId": "e4d55365-c52d-4bad-97df-944d0ed8f097"
      },
      "outputs": [
        {
          "output_type": "display_data",
          "data": {
            "text/plain": [
              "<IPython.core.display.HTML object>"
            ],
            "text/html": [
              "\n",
              "     <input type=\"file\" id=\"files-8ef867d9-19a6-44de-9524-efa138d219b3\" name=\"files[]\" multiple disabled\n",
              "        style=\"border:none\" />\n",
              "     <output id=\"result-8ef867d9-19a6-44de-9524-efa138d219b3\">\n",
              "      Upload widget is only available when the cell has been executed in the\n",
              "      current browser session. Please rerun this cell to enable.\n",
              "      </output>\n",
              "      <script>// Copyright 2017 Google LLC\n",
              "//\n",
              "// Licensed under the Apache License, Version 2.0 (the \"License\");\n",
              "// you may not use this file except in compliance with the License.\n",
              "// You may obtain a copy of the License at\n",
              "//\n",
              "//      http://www.apache.org/licenses/LICENSE-2.0\n",
              "//\n",
              "// Unless required by applicable law or agreed to in writing, software\n",
              "// distributed under the License is distributed on an \"AS IS\" BASIS,\n",
              "// WITHOUT WARRANTIES OR CONDITIONS OF ANY KIND, either express or implied.\n",
              "// See the License for the specific language governing permissions and\n",
              "// limitations under the License.\n",
              "\n",
              "/**\n",
              " * @fileoverview Helpers for google.colab Python module.\n",
              " */\n",
              "(function(scope) {\n",
              "function span(text, styleAttributes = {}) {\n",
              "  const element = document.createElement('span');\n",
              "  element.textContent = text;\n",
              "  for (const key of Object.keys(styleAttributes)) {\n",
              "    element.style[key] = styleAttributes[key];\n",
              "  }\n",
              "  return element;\n",
              "}\n",
              "\n",
              "// Max number of bytes which will be uploaded at a time.\n",
              "const MAX_PAYLOAD_SIZE = 100 * 1024;\n",
              "\n",
              "function _uploadFiles(inputId, outputId) {\n",
              "  const steps = uploadFilesStep(inputId, outputId);\n",
              "  const outputElement = document.getElementById(outputId);\n",
              "  // Cache steps on the outputElement to make it available for the next call\n",
              "  // to uploadFilesContinue from Python.\n",
              "  outputElement.steps = steps;\n",
              "\n",
              "  return _uploadFilesContinue(outputId);\n",
              "}\n",
              "\n",
              "// This is roughly an async generator (not supported in the browser yet),\n",
              "// where there are multiple asynchronous steps and the Python side is going\n",
              "// to poll for completion of each step.\n",
              "// This uses a Promise to block the python side on completion of each step,\n",
              "// then passes the result of the previous step as the input to the next step.\n",
              "function _uploadFilesContinue(outputId) {\n",
              "  const outputElement = document.getElementById(outputId);\n",
              "  const steps = outputElement.steps;\n",
              "\n",
              "  const next = steps.next(outputElement.lastPromiseValue);\n",
              "  return Promise.resolve(next.value.promise).then((value) => {\n",
              "    // Cache the last promise value to make it available to the next\n",
              "    // step of the generator.\n",
              "    outputElement.lastPromiseValue = value;\n",
              "    return next.value.response;\n",
              "  });\n",
              "}\n",
              "\n",
              "/**\n",
              " * Generator function which is called between each async step of the upload\n",
              " * process.\n",
              " * @param {string} inputId Element ID of the input file picker element.\n",
              " * @param {string} outputId Element ID of the output display.\n",
              " * @return {!Iterable<!Object>} Iterable of next steps.\n",
              " */\n",
              "function* uploadFilesStep(inputId, outputId) {\n",
              "  const inputElement = document.getElementById(inputId);\n",
              "  inputElement.disabled = false;\n",
              "\n",
              "  const outputElement = document.getElementById(outputId);\n",
              "  outputElement.innerHTML = '';\n",
              "\n",
              "  const pickedPromise = new Promise((resolve) => {\n",
              "    inputElement.addEventListener('change', (e) => {\n",
              "      resolve(e.target.files);\n",
              "    });\n",
              "  });\n",
              "\n",
              "  const cancel = document.createElement('button');\n",
              "  inputElement.parentElement.appendChild(cancel);\n",
              "  cancel.textContent = 'Cancel upload';\n",
              "  const cancelPromise = new Promise((resolve) => {\n",
              "    cancel.onclick = () => {\n",
              "      resolve(null);\n",
              "    };\n",
              "  });\n",
              "\n",
              "  // Wait for the user to pick the files.\n",
              "  const files = yield {\n",
              "    promise: Promise.race([pickedPromise, cancelPromise]),\n",
              "    response: {\n",
              "      action: 'starting',\n",
              "    }\n",
              "  };\n",
              "\n",
              "  cancel.remove();\n",
              "\n",
              "  // Disable the input element since further picks are not allowed.\n",
              "  inputElement.disabled = true;\n",
              "\n",
              "  if (!files) {\n",
              "    return {\n",
              "      response: {\n",
              "        action: 'complete',\n",
              "      }\n",
              "    };\n",
              "  }\n",
              "\n",
              "  for (const file of files) {\n",
              "    const li = document.createElement('li');\n",
              "    li.append(span(file.name, {fontWeight: 'bold'}));\n",
              "    li.append(span(\n",
              "        `(${file.type || 'n/a'}) - ${file.size} bytes, ` +\n",
              "        `last modified: ${\n",
              "            file.lastModifiedDate ? file.lastModifiedDate.toLocaleDateString() :\n",
              "                                    'n/a'} - `));\n",
              "    const percent = span('0% done');\n",
              "    li.appendChild(percent);\n",
              "\n",
              "    outputElement.appendChild(li);\n",
              "\n",
              "    const fileDataPromise = new Promise((resolve) => {\n",
              "      const reader = new FileReader();\n",
              "      reader.onload = (e) => {\n",
              "        resolve(e.target.result);\n",
              "      };\n",
              "      reader.readAsArrayBuffer(file);\n",
              "    });\n",
              "    // Wait for the data to be ready.\n",
              "    let fileData = yield {\n",
              "      promise: fileDataPromise,\n",
              "      response: {\n",
              "        action: 'continue',\n",
              "      }\n",
              "    };\n",
              "\n",
              "    // Use a chunked sending to avoid message size limits. See b/62115660.\n",
              "    let position = 0;\n",
              "    do {\n",
              "      const length = Math.min(fileData.byteLength - position, MAX_PAYLOAD_SIZE);\n",
              "      const chunk = new Uint8Array(fileData, position, length);\n",
              "      position += length;\n",
              "\n",
              "      const base64 = btoa(String.fromCharCode.apply(null, chunk));\n",
              "      yield {\n",
              "        response: {\n",
              "          action: 'append',\n",
              "          file: file.name,\n",
              "          data: base64,\n",
              "        },\n",
              "      };\n",
              "\n",
              "      let percentDone = fileData.byteLength === 0 ?\n",
              "          100 :\n",
              "          Math.round((position / fileData.byteLength) * 100);\n",
              "      percent.textContent = `${percentDone}% done`;\n",
              "\n",
              "    } while (position < fileData.byteLength);\n",
              "  }\n",
              "\n",
              "  // All done.\n",
              "  yield {\n",
              "    response: {\n",
              "      action: 'complete',\n",
              "    }\n",
              "  };\n",
              "}\n",
              "\n",
              "scope.google = scope.google || {};\n",
              "scope.google.colab = scope.google.colab || {};\n",
              "scope.google.colab._files = {\n",
              "  _uploadFiles,\n",
              "  _uploadFilesContinue,\n",
              "};\n",
              "})(self);\n",
              "</script> "
            ]
          },
          "metadata": {}
        },
        {
          "output_type": "stream",
          "name": "stdout",
          "text": [
            "Saving comentarios_plataforma.csv to comentarios_plataforma (1).csv\n"
          ]
        },
        {
          "output_type": "execute_result",
          "data": {
            "text/plain": [
              "  IDCLIENTE               FECHA_HORA              NOMBRE_EXPERIENCIA  \\\n",
              "0  1.00E+16  2022-03-10T18:28:29.699                  Cineco Combo 3   \n",
              "1  1.00E+16  2022-04-25T16:42:29.670  Bono virtual Crepes&Waffles 30   \n",
              "2  1.00E+16  2022-03-18T20:54:04.072  Bono mercado Justo y Bueno 50    \n",
              "3  1.00E+16  2022-03-16T06:49:25.703   Disfruta el mejor pollo asado   \n",
              "4  1.00E+16  2022-03-28T08:52:03.991          Supermercados 50 IFood   \n",
              "\n",
              "                               ORDER_ID  CALIFICACION  \n",
              "0  fe3a3039-b6d5-4129-96df-b2ea5a1e8cb1             1  \n",
              "1  3cacd103-e090-4289-9397-7d0540bc2931             5  \n",
              "2  c3dbf71b-ab22-47f5-ab2d-e8877fccf370             5  \n",
              "3  c7a5c2da-fb74-40ac-a0a7-80c30afed6f6             5  \n",
              "4  62441c67-0e9a-49cb-bbb4-2503def5770e             4  "
            ],
            "text/html": [
              "\n",
              "  <div id=\"df-79bab1d4-38cb-4ce8-8f6c-6542e7e79c81\">\n",
              "    <div class=\"colab-df-container\">\n",
              "      <div>\n",
              "<style scoped>\n",
              "    .dataframe tbody tr th:only-of-type {\n",
              "        vertical-align: middle;\n",
              "    }\n",
              "\n",
              "    .dataframe tbody tr th {\n",
              "        vertical-align: top;\n",
              "    }\n",
              "\n",
              "    .dataframe thead th {\n",
              "        text-align: right;\n",
              "    }\n",
              "</style>\n",
              "<table border=\"1\" class=\"dataframe\">\n",
              "  <thead>\n",
              "    <tr style=\"text-align: right;\">\n",
              "      <th></th>\n",
              "      <th>IDCLIENTE</th>\n",
              "      <th>FECHA_HORA</th>\n",
              "      <th>NOMBRE_EXPERIENCIA</th>\n",
              "      <th>ORDER_ID</th>\n",
              "      <th>CALIFICACION</th>\n",
              "    </tr>\n",
              "  </thead>\n",
              "  <tbody>\n",
              "    <tr>\n",
              "      <th>0</th>\n",
              "      <td>1.00E+16</td>\n",
              "      <td>2022-03-10T18:28:29.699</td>\n",
              "      <td>Cineco Combo 3</td>\n",
              "      <td>fe3a3039-b6d5-4129-96df-b2ea5a1e8cb1</td>\n",
              "      <td>1</td>\n",
              "    </tr>\n",
              "    <tr>\n",
              "      <th>1</th>\n",
              "      <td>1.00E+16</td>\n",
              "      <td>2022-04-25T16:42:29.670</td>\n",
              "      <td>Bono virtual Crepes&amp;Waffles 30</td>\n",
              "      <td>3cacd103-e090-4289-9397-7d0540bc2931</td>\n",
              "      <td>5</td>\n",
              "    </tr>\n",
              "    <tr>\n",
              "      <th>2</th>\n",
              "      <td>1.00E+16</td>\n",
              "      <td>2022-03-18T20:54:04.072</td>\n",
              "      <td>Bono mercado Justo y Bueno 50</td>\n",
              "      <td>c3dbf71b-ab22-47f5-ab2d-e8877fccf370</td>\n",
              "      <td>5</td>\n",
              "    </tr>\n",
              "    <tr>\n",
              "      <th>3</th>\n",
              "      <td>1.00E+16</td>\n",
              "      <td>2022-03-16T06:49:25.703</td>\n",
              "      <td>Disfruta el mejor pollo asado</td>\n",
              "      <td>c7a5c2da-fb74-40ac-a0a7-80c30afed6f6</td>\n",
              "      <td>5</td>\n",
              "    </tr>\n",
              "    <tr>\n",
              "      <th>4</th>\n",
              "      <td>1.00E+16</td>\n",
              "      <td>2022-03-28T08:52:03.991</td>\n",
              "      <td>Supermercados 50 IFood</td>\n",
              "      <td>62441c67-0e9a-49cb-bbb4-2503def5770e</td>\n",
              "      <td>4</td>\n",
              "    </tr>\n",
              "  </tbody>\n",
              "</table>\n",
              "</div>\n",
              "      <button class=\"colab-df-convert\" onclick=\"convertToInteractive('df-79bab1d4-38cb-4ce8-8f6c-6542e7e79c81')\"\n",
              "              title=\"Convert this dataframe to an interactive table.\"\n",
              "              style=\"display:none;\">\n",
              "        \n",
              "  <svg xmlns=\"http://www.w3.org/2000/svg\" height=\"24px\"viewBox=\"0 0 24 24\"\n",
              "       width=\"24px\">\n",
              "    <path d=\"M0 0h24v24H0V0z\" fill=\"none\"/>\n",
              "    <path d=\"M18.56 5.44l.94 2.06.94-2.06 2.06-.94-2.06-.94-.94-2.06-.94 2.06-2.06.94zm-11 1L8.5 8.5l.94-2.06 2.06-.94-2.06-.94L8.5 2.5l-.94 2.06-2.06.94zm10 10l.94 2.06.94-2.06 2.06-.94-2.06-.94-.94-2.06-.94 2.06-2.06.94z\"/><path d=\"M17.41 7.96l-1.37-1.37c-.4-.4-.92-.59-1.43-.59-.52 0-1.04.2-1.43.59L10.3 9.45l-7.72 7.72c-.78.78-.78 2.05 0 2.83L4 21.41c.39.39.9.59 1.41.59.51 0 1.02-.2 1.41-.59l7.78-7.78 2.81-2.81c.8-.78.8-2.07 0-2.86zM5.41 20L4 18.59l7.72-7.72 1.47 1.35L5.41 20z\"/>\n",
              "  </svg>\n",
              "      </button>\n",
              "      \n",
              "  <style>\n",
              "    .colab-df-container {\n",
              "      display:flex;\n",
              "      flex-wrap:wrap;\n",
              "      gap: 12px;\n",
              "    }\n",
              "\n",
              "    .colab-df-convert {\n",
              "      background-color: #E8F0FE;\n",
              "      border: none;\n",
              "      border-radius: 50%;\n",
              "      cursor: pointer;\n",
              "      display: none;\n",
              "      fill: #1967D2;\n",
              "      height: 32px;\n",
              "      padding: 0 0 0 0;\n",
              "      width: 32px;\n",
              "    }\n",
              "\n",
              "    .colab-df-convert:hover {\n",
              "      background-color: #E2EBFA;\n",
              "      box-shadow: 0px 1px 2px rgba(60, 64, 67, 0.3), 0px 1px 3px 1px rgba(60, 64, 67, 0.15);\n",
              "      fill: #174EA6;\n",
              "    }\n",
              "\n",
              "    [theme=dark] .colab-df-convert {\n",
              "      background-color: #3B4455;\n",
              "      fill: #D2E3FC;\n",
              "    }\n",
              "\n",
              "    [theme=dark] .colab-df-convert:hover {\n",
              "      background-color: #434B5C;\n",
              "      box-shadow: 0px 1px 3px 1px rgba(0, 0, 0, 0.15);\n",
              "      filter: drop-shadow(0px 1px 2px rgba(0, 0, 0, 0.3));\n",
              "      fill: #FFFFFF;\n",
              "    }\n",
              "  </style>\n",
              "\n",
              "      <script>\n",
              "        const buttonEl =\n",
              "          document.querySelector('#df-79bab1d4-38cb-4ce8-8f6c-6542e7e79c81 button.colab-df-convert');\n",
              "        buttonEl.style.display =\n",
              "          google.colab.kernel.accessAllowed ? 'block' : 'none';\n",
              "\n",
              "        async function convertToInteractive(key) {\n",
              "          const element = document.querySelector('#df-79bab1d4-38cb-4ce8-8f6c-6542e7e79c81');\n",
              "          const dataTable =\n",
              "            await google.colab.kernel.invokeFunction('convertToInteractive',\n",
              "                                                     [key], {});\n",
              "          if (!dataTable) return;\n",
              "\n",
              "          const docLinkHtml = 'Like what you see? Visit the ' +\n",
              "            '<a target=\"_blank\" href=https://colab.research.google.com/notebooks/data_table.ipynb>data table notebook</a>'\n",
              "            + ' to learn more about interactive tables.';\n",
              "          element.innerHTML = '';\n",
              "          dataTable['output_type'] = 'display_data';\n",
              "          await google.colab.output.renderOutput(dataTable, element);\n",
              "          const docLink = document.createElement('div');\n",
              "          docLink.innerHTML = docLinkHtml;\n",
              "          element.appendChild(docLink);\n",
              "        }\n",
              "      </script>\n",
              "    </div>\n",
              "  </div>\n",
              "  "
            ]
          },
          "metadata": {},
          "execution_count": 3
        }
      ],
      "source": [
        "\"\"\"\n",
        "Como el codigo consta de un csv, es suficiente solo con ejectuar los comandos respectivos para cargarlo \n",
        "a nuestro NoteBook:\n",
        "\"\"\"\n",
        "#Usamos la opción interactiva para cargar nuestros datos desde nuestro equipo local.\n",
        "from google.colab import files\n",
        "uploaded = files.upload()\n",
        "#Una vez seleccionamos el archivo, usamos pandas e io para leer el archivo csv\n",
        "import pandas as pd\n",
        "import io\n",
        "df = pd.read_csv(io.BytesIO(uploaded['comentarios_plataforma.csv']), sep = \",\")\n",
        "# Almacenamos los datos en un dataframe y vemos algunos temas descriptivos\n",
        "df.head()"
      ]
    },
    {
      "cell_type": "code",
      "source": [
        "#Nuestro df tiene 936 filas con 5 columnas\n",
        "df.shape"
      ],
      "metadata": {
        "id": "zcWNHEHW75I1",
        "colab": {
          "base_uri": "https://localhost:8080/"
        },
        "outputId": "a7b9fcc1-a1e7-43e8-e017-3e2ecab1f1e3"
      },
      "id": "zcWNHEHW75I1",
      "execution_count": null,
      "outputs": [
        {
          "output_type": "execute_result",
          "data": {
            "text/plain": [
              "(936, 5)"
            ]
          },
          "metadata": {},
          "execution_count": 4
        }
      ]
    },
    {
      "cell_type": "code",
      "source": [
        "#Todas las variables son de tipo string excepto la de las valoraciones numéricas que es de tipo entero, a su vez podemos ver que todo el df esta completo, sin ningún valor nulo.\n",
        "df.info()"
      ],
      "metadata": {
        "id": "uBHq2hqk77yR",
        "colab": {
          "base_uri": "https://localhost:8080/"
        },
        "outputId": "f4f91914-63a6-4c11-82f1-88c6f5e1e0db"
      },
      "id": "uBHq2hqk77yR",
      "execution_count": null,
      "outputs": [
        {
          "output_type": "stream",
          "name": "stdout",
          "text": [
            "<class 'pandas.core.frame.DataFrame'>\n",
            "RangeIndex: 936 entries, 0 to 935\n",
            "Data columns (total 5 columns):\n",
            " #   Column              Non-Null Count  Dtype \n",
            "---  ------              --------------  ----- \n",
            " 0   IDCLIENTE           936 non-null    object\n",
            " 1   FECHA_HORA          936 non-null    object\n",
            " 2   NOMBRE_EXPERIENCIA  936 non-null    object\n",
            " 3   ORDER_ID            936 non-null    object\n",
            " 4   CALIFICACION        936 non-null    int64 \n",
            "dtypes: int64(1), object(4)\n",
            "memory usage: 36.7+ KB\n"
          ]
        }
      ]
    },
    {
      "cell_type": "code",
      "source": [
        "#Para las valoraciones numéricas tenemos que su valor promedio es de 3.9 con un mínimo de 1 y máximo de 5.\n",
        "df.describe()"
      ],
      "metadata": {
        "id": "U2bVP7Hu8Ajd",
        "colab": {
          "base_uri": "https://localhost:8080/",
          "height": 300
        },
        "outputId": "5d1ce246-cfc9-4be1-f831-3c031e2efe8d"
      },
      "id": "U2bVP7Hu8Ajd",
      "execution_count": null,
      "outputs": [
        {
          "output_type": "execute_result",
          "data": {
            "text/plain": [
              "       CALIFICACION\n",
              "count    936.000000\n",
              "mean       3.905983\n",
              "std        1.609373\n",
              "min        1.000000\n",
              "25%        3.000000\n",
              "50%        5.000000\n",
              "75%        5.000000\n",
              "max        5.000000"
            ],
            "text/html": [
              "\n",
              "  <div id=\"df-63ff2bed-337a-445b-b914-c3386f444e73\">\n",
              "    <div class=\"colab-df-container\">\n",
              "      <div>\n",
              "<style scoped>\n",
              "    .dataframe tbody tr th:only-of-type {\n",
              "        vertical-align: middle;\n",
              "    }\n",
              "\n",
              "    .dataframe tbody tr th {\n",
              "        vertical-align: top;\n",
              "    }\n",
              "\n",
              "    .dataframe thead th {\n",
              "        text-align: right;\n",
              "    }\n",
              "</style>\n",
              "<table border=\"1\" class=\"dataframe\">\n",
              "  <thead>\n",
              "    <tr style=\"text-align: right;\">\n",
              "      <th></th>\n",
              "      <th>CALIFICACION</th>\n",
              "    </tr>\n",
              "  </thead>\n",
              "  <tbody>\n",
              "    <tr>\n",
              "      <th>count</th>\n",
              "      <td>936.000000</td>\n",
              "    </tr>\n",
              "    <tr>\n",
              "      <th>mean</th>\n",
              "      <td>3.905983</td>\n",
              "    </tr>\n",
              "    <tr>\n",
              "      <th>std</th>\n",
              "      <td>1.609373</td>\n",
              "    </tr>\n",
              "    <tr>\n",
              "      <th>min</th>\n",
              "      <td>1.000000</td>\n",
              "    </tr>\n",
              "    <tr>\n",
              "      <th>25%</th>\n",
              "      <td>3.000000</td>\n",
              "    </tr>\n",
              "    <tr>\n",
              "      <th>50%</th>\n",
              "      <td>5.000000</td>\n",
              "    </tr>\n",
              "    <tr>\n",
              "      <th>75%</th>\n",
              "      <td>5.000000</td>\n",
              "    </tr>\n",
              "    <tr>\n",
              "      <th>max</th>\n",
              "      <td>5.000000</td>\n",
              "    </tr>\n",
              "  </tbody>\n",
              "</table>\n",
              "</div>\n",
              "      <button class=\"colab-df-convert\" onclick=\"convertToInteractive('df-63ff2bed-337a-445b-b914-c3386f444e73')\"\n",
              "              title=\"Convert this dataframe to an interactive table.\"\n",
              "              style=\"display:none;\">\n",
              "        \n",
              "  <svg xmlns=\"http://www.w3.org/2000/svg\" height=\"24px\"viewBox=\"0 0 24 24\"\n",
              "       width=\"24px\">\n",
              "    <path d=\"M0 0h24v24H0V0z\" fill=\"none\"/>\n",
              "    <path d=\"M18.56 5.44l.94 2.06.94-2.06 2.06-.94-2.06-.94-.94-2.06-.94 2.06-2.06.94zm-11 1L8.5 8.5l.94-2.06 2.06-.94-2.06-.94L8.5 2.5l-.94 2.06-2.06.94zm10 10l.94 2.06.94-2.06 2.06-.94-2.06-.94-.94-2.06-.94 2.06-2.06.94z\"/><path d=\"M17.41 7.96l-1.37-1.37c-.4-.4-.92-.59-1.43-.59-.52 0-1.04.2-1.43.59L10.3 9.45l-7.72 7.72c-.78.78-.78 2.05 0 2.83L4 21.41c.39.39.9.59 1.41.59.51 0 1.02-.2 1.41-.59l7.78-7.78 2.81-2.81c.8-.78.8-2.07 0-2.86zM5.41 20L4 18.59l7.72-7.72 1.47 1.35L5.41 20z\"/>\n",
              "  </svg>\n",
              "      </button>\n",
              "      \n",
              "  <style>\n",
              "    .colab-df-container {\n",
              "      display:flex;\n",
              "      flex-wrap:wrap;\n",
              "      gap: 12px;\n",
              "    }\n",
              "\n",
              "    .colab-df-convert {\n",
              "      background-color: #E8F0FE;\n",
              "      border: none;\n",
              "      border-radius: 50%;\n",
              "      cursor: pointer;\n",
              "      display: none;\n",
              "      fill: #1967D2;\n",
              "      height: 32px;\n",
              "      padding: 0 0 0 0;\n",
              "      width: 32px;\n",
              "    }\n",
              "\n",
              "    .colab-df-convert:hover {\n",
              "      background-color: #E2EBFA;\n",
              "      box-shadow: 0px 1px 2px rgba(60, 64, 67, 0.3), 0px 1px 3px 1px rgba(60, 64, 67, 0.15);\n",
              "      fill: #174EA6;\n",
              "    }\n",
              "\n",
              "    [theme=dark] .colab-df-convert {\n",
              "      background-color: #3B4455;\n",
              "      fill: #D2E3FC;\n",
              "    }\n",
              "\n",
              "    [theme=dark] .colab-df-convert:hover {\n",
              "      background-color: #434B5C;\n",
              "      box-shadow: 0px 1px 3px 1px rgba(0, 0, 0, 0.15);\n",
              "      filter: drop-shadow(0px 1px 2px rgba(0, 0, 0, 0.3));\n",
              "      fill: #FFFFFF;\n",
              "    }\n",
              "  </style>\n",
              "\n",
              "      <script>\n",
              "        const buttonEl =\n",
              "          document.querySelector('#df-63ff2bed-337a-445b-b914-c3386f444e73 button.colab-df-convert');\n",
              "        buttonEl.style.display =\n",
              "          google.colab.kernel.accessAllowed ? 'block' : 'none';\n",
              "\n",
              "        async function convertToInteractive(key) {\n",
              "          const element = document.querySelector('#df-63ff2bed-337a-445b-b914-c3386f444e73');\n",
              "          const dataTable =\n",
              "            await google.colab.kernel.invokeFunction('convertToInteractive',\n",
              "                                                     [key], {});\n",
              "          if (!dataTable) return;\n",
              "\n",
              "          const docLinkHtml = 'Like what you see? Visit the ' +\n",
              "            '<a target=\"_blank\" href=https://colab.research.google.com/notebooks/data_table.ipynb>data table notebook</a>'\n",
              "            + ' to learn more about interactive tables.';\n",
              "          element.innerHTML = '';\n",
              "          dataTable['output_type'] = 'display_data';\n",
              "          await google.colab.output.renderOutput(dataTable, element);\n",
              "          const docLink = document.createElement('div');\n",
              "          docLink.innerHTML = docLinkHtml;\n",
              "          element.appendChild(docLink);\n",
              "        }\n",
              "      </script>\n",
              "    </div>\n",
              "  </div>\n",
              "  "
            ]
          },
          "metadata": {},
          "execution_count": 6
        }
      ]
    },
    {
      "cell_type": "markdown",
      "source": [
        "De esta manera, hemos cargado satisfactoriamente nuestros datos y estan listos para ser trabajados en etapas posteriores."
      ],
      "metadata": {
        "id": "4K-C6ME48BMf"
      },
      "id": "4K-C6ME48BMf"
    },
    {
      "cell_type": "markdown",
      "id": "698f42d4",
      "metadata": {
        "id": "698f42d4"
      },
      "source": [
        "## **Créditos**\n",
        "\n",
        "* **Profesor:** [Fabio Augusto Gonzalez](https://dis.unal.edu.co/~fgonza/)\n",
        "* **Asistentes docentes :**\n",
        "  * [Santiago Toledo Cortés](https://sites.google.com/unal.edu.co/santiagotoledo-cortes/) \n",
        "* **Diseño de imágenes:**\n",
        "    - [Mario Andres Rodriguez Triana](https://www.linkedin.com/in/mario-andres-rodriguez-triana-394806145/).\n",
        "* **Coordinador de virtualización:**\n",
        "    - [Edder Hernández Forero](https://www.linkedin.com/in/edder-hernandez-forero-28aa8b207/).\n",
        "\n",
        "**Universidad Nacional de Colombia** - *Facultad de Ingeniería*"
      ]
    }
  ],
  "metadata": {
    "jupytext": {
      "cell_metadata_filter": "-all"
    },
    "kernelspec": {
      "display_name": "Python 3 (ipykernel)",
      "language": "python",
      "name": "python3"
    },
    "colab": {
      "provenance": []
    }
  },
  "nbformat": 4,
  "nbformat_minor": 5
}